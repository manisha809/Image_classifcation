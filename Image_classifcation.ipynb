{
  "cells": [
    {
      "cell_type": "code",
      "execution_count": null,
      "metadata": {
        "id": "LiUbkAJUMpav"
      },
      "outputs": [],
      "source": [
        "import tensorflow as tf\n",
        "import keras\n",
        "from keras.models import Sequential\n",
        "from keras.layers import Dense\n",
        "from tensorflow.keras import datasets , layers, models\n",
        "import matplotlib.pyplot as plt\n",
        "import numpy as np"
      ]
    },
    {
      "cell_type": "code",
      "execution_count": null,
      "metadata": {
        "colab": {
          "base_uri": "https://localhost:8080/"
        },
        "id": "8H7vBizSMrrG",
        "outputId": "a207b8b7-7523-4a17-eb35-02d89be0a9ab"
      },
      "outputs": [
        {
          "output_type": "stream",
          "name": "stdout",
          "text": [
            "Downloading data from https://www.cs.toronto.edu/~kriz/cifar-10-python.tar.gz\n",
            "170498071/170498071 [==============================] - 4s 0us/step\n"
          ]
        }
      ],
      "source": [
        "(x_train , y_train ),(x_test , y_test)= datasets.cifar10.load_data()"
      ]
    },
    {
      "cell_type": "code",
      "execution_count": null,
      "metadata": {
        "colab": {
          "base_uri": "https://localhost:8080/"
        },
        "id": "Ig8lcv4UMzHA",
        "outputId": "8a5be75b-4e18-4804-f51d-39b30b57a12e"
      },
      "outputs": [
        {
          "output_type": "execute_result",
          "data": {
            "text/plain": [
              "(50000, 32, 32, 3)"
            ]
          },
          "metadata": {},
          "execution_count": 3
        }
      ],
      "source": [
        "x_train.shape"
      ]
    },
    {
      "cell_type": "code",
      "execution_count": null,
      "metadata": {
        "colab": {
          "base_uri": "https://localhost:8080/"
        },
        "id": "yaCaSeiuM3T-",
        "outputId": "bb15e8dd-fd5e-47c5-f0ed-f8b5e7bf46c0"
      },
      "outputs": [
        {
          "output_type": "execute_result",
          "data": {
            "text/plain": [
              "(10000, 32, 32, 3)"
            ]
          },
          "metadata": {},
          "execution_count": 4
        }
      ],
      "source": [
        "x_test.shape"
      ]
    },
    {
      "cell_type": "code",
      "execution_count": null,
      "metadata": {
        "colab": {
          "base_uri": "https://localhost:8080/"
        },
        "id": "uZjG72oZM3_O",
        "outputId": "45edd594-9532-4351-dea7-864022c574fb"
      },
      "outputs": [
        {
          "output_type": "execute_result",
          "data": {
            "text/plain": [
              "array([[6],\n",
              "       [9],\n",
              "       [9],\n",
              "       [4],\n",
              "       [1]], dtype=uint8)"
            ]
          },
          "metadata": {},
          "execution_count": 5
        }
      ],
      "source": [
        "y_train[:5]"
      ]
    },
    {
      "cell_type": "code",
      "execution_count": null,
      "metadata": {
        "colab": {
          "base_uri": "https://localhost:8080/"
        },
        "id": "TzMTKrflM6k5",
        "outputId": "3630f428-5dd7-4948-b366-69e3f6d2311a"
      },
      "outputs": [
        {
          "output_type": "execute_result",
          "data": {
            "text/plain": [
              "array([6, 9, 9, ..., 9, 1, 1], dtype=uint8)"
            ]
          },
          "metadata": {},
          "execution_count": 6
        }
      ],
      "source": [
        "y_train=y_train.reshape(-1,)\n",
        "y_train"
      ]
    },
    {
      "cell_type": "code",
      "execution_count": null,
      "metadata": {
        "id": "Ec86HFg5M9IN"
      },
      "outputs": [],
      "source": [
        "classes=[\"airplane\",\"automobile\",\"bird\",\"cat\",\"deer\",\"dog\",\"frog\",\"horse\",\"ship\",\"truck\"]"
      ]
    },
    {
      "cell_type": "code",
      "execution_count": null,
      "metadata": {
        "colab": {
          "base_uri": "https://localhost:8080/",
          "height": 35
        },
        "id": "lTK4LgDDM_WY",
        "outputId": "ebebc76c-17d4-4cb8-fc03-d9b140bf0f2c"
      },
      "outputs": [
        {
          "output_type": "execute_result",
          "data": {
            "text/plain": [
              "'truck'"
            ],
            "application/vnd.google.colaboratory.intrinsic+json": {
              "type": "string"
            }
          },
          "metadata": {},
          "execution_count": 8
        }
      ],
      "source": [
        "classes[9]"
      ]
    },
    {
      "cell_type": "code",
      "execution_count": null,
      "metadata": {
        "id": "UQPRN2OKNClp"
      },
      "outputs": [],
      "source": [
        "def plot_sample(x,y,index):\n",
        " plt.figure(figsize=(15,2))\n",
        " plt.imshow(x_train[0])\n",
        " plt.xlabel(classes[y[index]])"
      ]
    },
    {
      "cell_type": "code",
      "execution_count": null,
      "metadata": {
        "colab": {
          "base_uri": "https://localhost:8080/",
          "height": 237
        },
        "id": "sZaHvfduNG4p",
        "outputId": "29ddc039-155c-426f-f236-201d99a1757e"
      },
      "outputs": [
        {
          "output_type": "display_data",
          "data": {
            "text/plain": [
              "<Figure size 1500x200 with 1 Axes>"
            ],
            "image/png": "[encoded data removed]"
          },
          "metadata": {}
        }
      ],
      "source": [
        "plot_sample(x_train,y_train,1)"
      ]
    },
    {
      "cell_type": "code",
      "execution_count": null,
      "metadata": {
        "colab": {
          "base_uri": "https://localhost:8080/",
          "height": 237
        },
        "id": "kr-P4L63NJpI",
        "outputId": "5b13cd35-f36a-4bd7-8fea-503a3ae972b9"
      },
      "outputs": [
        {
          "output_type": "display_data",
          "data": {
            "text/plain": [
              "<Figure size 1500x200 with 1 Axes>"
            ],
            "image/png": "[encoded data removed]"
          },
          "metadata": {}
        }
      ],
      "source": [
        "plot_sample(x_train,y_train,3)"
      ]
    },
    {
      "cell_type": "code",
      "execution_count": null,
      "metadata": {
        "id": "IU0i8h5lNM7x"
      },
      "outputs": [],
      "source": [
        "x_train = x_train/255\n",
        "x_test =x_test/255"
      ]
    },
    {
      "cell_type": "code",
      "execution_count": null,
      "metadata": {
        "colab": {
          "base_uri": "https://localhost:8080/"
        },
        "id": "g-LxgrWiNPXj",
        "outputId": "53084c44-7e03-4b24-fdf1-856d05b79e12"
      },
      "outputs": [
        {
          "output_type": "stream",
          "name": "stdout",
          "text": [
            "Epoch 1/5\n",
            "1563/1563 [==============================] - 295s 188ms/step - loss: 1.8830 - accuracy: 0.3301\n",
            "Epoch 2/5\n",
            "1563/1563 [==============================] - 330s 211ms/step - loss: 1.6560 - accuracy: 0.4082\n",
            "Epoch 3/5\n",
            "1563/1563 [==============================] - 315s 202ms/step - loss: 1.5855 - accuracy: 0.4336\n",
            "Epoch 4/5\n",
            "1563/1563 [==============================] - 325s 208ms/step - loss: 1.5407 - accuracy: 0.4510\n",
            "Epoch 5/5\n",
            "1563/1563 [==============================] - 325s 208ms/step - loss: 1.5034 - accuracy: 0.4600\n"
          ]
        },
        {
          "output_type": "execute_result",
          "data": {
            "text/plain": [
              "<keras.callbacks.History at 0x7ff6c7842050>"
            ]
          },
          "metadata": {},
          "execution_count": 13
        }
      ],
      "source": [
        "#model building\n",
        "ann = models.Sequential([\n",
        "    keras.layers.Flatten(input_shape=(32,32,3)),\n",
        "    keras.layers.Dense(3000,activation='relu'),\n",
        "    keras.layers.Dense(1000,activation='relu'),\n",
        "    keras.layers.Dense(10,activation='sigmoid')\n",
        "])\n",
        "\n",
        "ann.compile(\n",
        "    optimizer='adam',\n",
        "    loss='sparse_categorical_crossentropy',\n",
        "    metrics=['accuracy']\n",
        ")\n",
        "\n",
        "ann.fit(x_train  , y_train,epochs=5)"
      ]
    },
    {
      "cell_type": "code",
      "execution_count": 14,
      "metadata": {
        "colab": {
          "base_uri": "https://localhost:8080/"
        },
        "id": "njZw_dPpNSCR",
        "outputId": "c0b5dd5a-6f3b-4f08-abed-cf9e2acad749"
      },
      "outputs": [
        {
          "output_type": "stream",
          "name": "stdout",
          "text": [
            "313/313 [==============================] - 13s 39ms/step - loss: 1.5320 - accuracy: 0.4551\n"
          ]
        },
        {
          "output_type": "execute_result",
          "data": {
            "text/plain": [
              "[1.5320404767990112, 0.45509999990463257]"
            ]
          },
          "metadata": {},
          "execution_count": 14
        }
      ],
      "source": [
        "ann.evaluate(x_test,y_test)"
      ]
    },
    {
      "cell_type": "code",
      "execution_count": 15,
      "metadata": {
        "colab": {
          "base_uri": "https://localhost:8080/"
        },
        "id": "aeQ1Hqc_NaEQ",
        "outputId": "84f32003-92d9-41fa-c250-bcd311bf8cc5"
      },
      "outputs": [
        {
          "output_type": "stream",
          "name": "stdout",
          "text": [
            "313/313 [==============================] - 9s 30ms/step\n",
            "classification report \n",
            "                precision    recall  f1-score   support\n",
            "\n",
            "           0       0.44      0.56      0.49      1000\n",
            "           1       0.55      0.63      0.59      1000\n",
            "           2       0.33      0.27      0.29      1000\n",
            "           3       0.41      0.21      0.28      1000\n",
            "           4       0.37      0.47      0.41      1000\n",
            "           5       0.41      0.32      0.36      1000\n",
            "           6       0.51      0.44      0.47      1000\n",
            "           7       0.60      0.41      0.49      1000\n",
            "           8       0.45      0.72      0.56      1000\n",
            "           9       0.48      0.52      0.50      1000\n",
            "\n",
            "    accuracy                           0.46     10000\n",
            "   macro avg       0.46      0.46      0.44     10000\n",
            "weighted avg       0.46      0.46      0.44     10000\n",
            "\n"
          ]
        }
      ],
      "source": [
        "from sklearn.metrics import confusion_matrix , classification_report\n",
        "import numpy as np\n",
        "y_pred = ann.predict(x_test)\n",
        "y_pred_classes = [np.argmax(element) for element in y_pred]\n",
        "\n",
        "print(\"classification report \\n \",classification_report(y_test, y_pred_classes))"
      ]
    },
    {
      "cell_type": "code",
      "execution_count": 16,
      "metadata": {
        "id": "SR4OnrX9NdXL"
      },
      "outputs": [],
      "source": [
        "cnn = models.Sequential([\n",
        "    layers.Conv2D(filters=32, kernel_size=(3, 3), activation='relu', input_shape=(32, 32, 3)),\n",
        "    layers.MaxPooling2D((2, 2)),\n",
        "    \n",
        "    layers.Conv2D(filters=64, kernel_size=(3, 3), activation='relu'),\n",
        "    layers.MaxPooling2D((2, 2)),\n",
        "    \n",
        "    layers.Flatten(),\n",
        "    layers.Dense(64, activation='relu'),\n",
        "    layers.Dense(10, activation='softmax')\n",
        "])"
      ]
    },
    {
      "cell_type": "code",
      "execution_count": 17,
      "metadata": {
        "id": "dggvjUyTNf-T"
      },
      "outputs": [],
      "source": [
        "cnn.compile(\n",
        "    optimizer='adam',\n",
        "    loss='sparse_categorical_crossentropy',\n",
        "    metrics=['accuracy']\n",
        ")"
      ]
    },
    {
      "cell_type": "code",
      "execution_count": 18,
      "metadata": {
        "colab": {
          "base_uri": "https://localhost:8080/"
        },
        "id": "l9Cj-wb_Nj7z",
        "outputId": "df96a49c-38c3-456b-b72b-e0fd37ab28e6"
      },
      "outputs": [
        {
          "output_type": "stream",
          "name": "stdout",
          "text": [
            "Epoch 1/10\n",
            "1563/1563 [==============================] - 77s 49ms/step - loss: 1.4615 - accuracy: 0.4743\n",
            "Epoch 2/10\n",
            "1563/1563 [==============================] - 70s 45ms/step - loss: 1.1097 - accuracy: 0.6116\n",
            "Epoch 3/10\n",
            "1563/1563 [==============================] - 71s 45ms/step - loss: 0.9824 - accuracy: 0.6593\n",
            "Epoch 4/10\n",
            "1563/1563 [==============================] - 71s 45ms/step - loss: 0.8959 - accuracy: 0.6911\n",
            "Epoch 5/10\n",
            "1563/1563 [==============================] - 70s 45ms/step - loss: 0.8254 - accuracy: 0.7131\n",
            "Epoch 6/10\n",
            "1563/1563 [==============================] - 71s 45ms/step - loss: 0.7663 - accuracy: 0.7324\n",
            "Epoch 7/10\n",
            "1563/1563 [==============================] - 71s 45ms/step - loss: 0.7195 - accuracy: 0.7479\n",
            "Epoch 8/10\n",
            "1563/1563 [==============================] - 70s 45ms/step - loss: 0.6699 - accuracy: 0.7672\n",
            "Epoch 9/10\n",
            "1563/1563 [==============================] - 70s 45ms/step - loss: 0.6285 - accuracy: 0.7808\n",
            "Epoch 10/10\n",
            "1563/1563 [==============================] - 73s 47ms/step - loss: 0.5888 - accuracy: 0.7938\n"
          ]
        },
        {
          "output_type": "execute_result",
          "data": {
            "text/plain": [
              "<keras.callbacks.History at 0x7ff65df7beb0>"
            ]
          },
          "metadata": {},
          "execution_count": 18
        }
      ],
      "source": [
        "cnn.fit(x_train, y_train, epochs=10)"
      ]
    },
    {
      "cell_type": "code",
      "execution_count": 34,
      "metadata": {
        "id": "8hUwUWR3zQAm",
        "colab": {
          "base_uri": "https://localhost:8080/"
        },
        "outputId": "bc23e165-d8d1-4803-ffa3-3f961e9d6ad2"
      },
      "outputs": [
        {
          "output_type": "stream",
          "name": "stdout",
          "text": [
            "313/313 [==============================] - 10s 30ms/step\n"
          ]
        },
        {
          "output_type": "execute_result",
          "data": {
            "text/plain": [
              "array([[2.0293421e-03, 5.1416439e-04, 3.6526140e-04, 8.6921209e-01,\n",
              "        4.4767018e-03, 8.8194922e-02, 8.0271723e-04, 1.2069540e-03,\n",
              "        3.3155378e-02, 4.2455678e-05],\n",
              "       [3.0545047e-02, 1.1115629e-01, 7.1762348e-05, 9.7146458e-06,\n",
              "        1.1642214e-06, 5.8654088e-08, 1.0169367e-06, 9.8746932e-07,\n",
              "        8.5274947e-01, 5.4645436e-03],\n",
              "       [1.9013616e-01, 2.5755042e-01, 6.6300798e-03, 1.9381365e-02,\n",
              "        5.6526195e-03, 6.8199571e-04, 5.0516007e-04, 4.7908556e-03,\n",
              "        4.8821661e-01, 2.6454750e-02],\n",
              "       [9.1656423e-01, 2.3537663e-04, 5.9862301e-02, 3.1771077e-04,\n",
              "        3.8898754e-04, 3.6620422e-06, 4.4266009e-05, 2.7303529e-05,\n",
              "        2.2516556e-02, 3.9732768e-05],\n",
              "       [2.5344148e-06, 4.3788731e-07, 1.1301543e-02, 9.9870022e-03,\n",
              "        1.8589835e-01, 4.3019499e-03, 7.8850102e-01, 5.3266799e-06,\n",
              "        1.5733447e-06, 3.1311291e-07]], dtype=float32)"
            ]
          },
          "metadata": {},
          "execution_count": 34
        }
      ],
      "source": [
        "y_pred = cnn.predict(x_test)\n",
        "y_pred[:5]"
      ]
    },
    {
      "cell_type": "code",
      "source": [
        "y_classes = [np.argmax(element) for element in y_pred]\n",
        "y_classes[:5]"
      ],
      "metadata": {
        "colab": {
          "base_uri": "https://localhost:8080/"
        },
        "id": "-5ZkVGlYybon",
        "outputId": "c7380bd9-1b14-4979-96d0-5bc586fb383d"
      },
      "execution_count": 35,
      "outputs": [
        {
          "output_type": "execute_result",
          "data": {
            "text/plain": [
              "[3, 8, 8, 0, 6]"
            ]
          },
          "metadata": {},
          "execution_count": 35
        }
      ]
    },
    {
      "cell_type": "code",
      "source": [
        "y_test[:5]"
      ],
      "metadata": {
        "colab": {
          "base_uri": "https://localhost:8080/"
        },
        "id": "qFDMMkm-yjo0",
        "outputId": "79a88a9e-2a03-4123-8025-8331ad09d61b"
      },
      "execution_count": 36,
      "outputs": [
        {
          "output_type": "execute_result",
          "data": {
            "text/plain": [
              "array([3, 8, 8, 0, 6], dtype=uint8)"
            ]
          },
          "metadata": {},
          "execution_count": 36
        }
      ]
    },
    {
      "cell_type": "code",
      "source": [
        "plot_sample(x_test, y_test,1)"
      ],
      "metadata": {
        "colab": {
          "base_uri": "https://localhost:8080/",
          "height": 237
        },
        "id": "Dw5taomDynEx",
        "outputId": "e85f8f24-1445-42f4-d8b1-34980fba76b4"
      },
      "execution_count": 41,
      "outputs": [
        {
          "output_type": "display_data",
          "data": {
            "text/plain": [
              "<Figure size 1500x200 with 1 Axes>"
            ],
            "image/png": "[encoded data removed]"
          },
          "metadata": {}
        }
      ]
    },
    {
      "cell_type": "code",
      "source": [
        "classes[y_classes[1]]"
      ],
      "metadata": {
        "colab": {
          "base_uri": "https://localhost:8080/",
          "height": 35
        },
        "id": "RUSC3f2EyqvQ",
        "outputId": "697a1643-1774-49fa-e002-8b20adc909ac"
      },
      "execution_count": 42,
      "outputs": [
        {
          "output_type": "execute_result",
          "data": {
            "text/plain": [
              "'ship'"
            ],
            "application/vnd.google.colaboratory.intrinsic+json": {
              "type": "string"
            }
          },
          "metadata": {},
          "execution_count": 42
        }
      ]
    },
    {
      "cell_type": "code",
      "source": [
        "print(\"classification report :\\n\", classification_report(y_test , y_classes))"
      ],
      "metadata": {
        "colab": {
          "base_uri": "https://localhost:8080/"
        },
        "id": "hSSiQ0uny0nH",
        "outputId": "66fef0c8-81aa-42ca-8b4f-a8c0cf3d2454"
      },
      "execution_count": 44,
      "outputs": [
        {
          "output_type": "stream",
          "name": "stdout",
          "text": [
            "classification report :\n",
            "               precision    recall  f1-score   support\n",
            "\n",
            "           0       0.71      0.73      0.72      1000\n",
            "           1       0.85      0.77      0.80      1000\n",
            "           2       0.57      0.60      0.58      1000\n",
            "           3       0.53      0.52      0.52      1000\n",
            "           4       0.69      0.59      0.64      1000\n",
            "           5       0.57      0.65      0.61      1000\n",
            "           6       0.77      0.79      0.78      1000\n",
            "           7       0.74      0.76      0.75      1000\n",
            "           8       0.77      0.82      0.79      1000\n",
            "           9       0.81      0.76      0.79      1000\n",
            "\n",
            "    accuracy                           0.70     10000\n",
            "   macro avg       0.70      0.70      0.70     10000\n",
            "weighted avg       0.70      0.70      0.70     10000\n",
            "\n"
          ]
        }
      ]
    },
    {
      "cell_type": "code",
      "source": [],
      "metadata": {
        "id": "oHpv1noez1RI"
      },
      "execution_count": null,
      "outputs": []
    }
  ],
  "metadata": {
    "colab": {
      "provenance": []
    },
    "kernelspec": {
      "display_name": "Python 3",
      "name": "python3"
    },
    "language_info": {
      "name": "python"
    }
  },
  "nbformat": 4,
  "nbformat_minor": 0
}